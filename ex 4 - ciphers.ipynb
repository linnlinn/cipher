{
 "cells": [
  {
   "cell_type": "markdown",
   "metadata": {},
   "source": [
    "# Chapter 4 : cryptocipher"
   ]
  },
  {
   "cell_type": "markdown",
   "metadata": {},
   "source": [
    "4.21 : given a message, create a dictionnary mapping the letters in message to the alphabet"
   ]
  },
  {
   "cell_type": "code",
   "execution_count": 8,
   "metadata": {},
   "outputs": [],
   "source": [
    "import string\n",
    "import random\n",
    "import numpy as np\n",
    "import requests\n",
    "import re"
   ]
  },
  {
   "cell_type": "code",
   "execution_count": 9,
   "metadata": {},
   "outputs": [],
   "source": [
    "def map_letters(message : str): \n",
    "    alphabet = string.ascii_lowercase\n",
    "    letters = set(message.replace(' ', '')+alphabet)\n",
    "    d={x:y for x, y in zip(letters, alphabet)}\n",
    "    return d"
   ]
  },
  {
   "cell_type": "markdown",
   "metadata": {},
   "source": [
    "# Create random cipher"
   ]
  },
  {
   "cell_type": "code",
   "execution_count": 10,
   "metadata": {},
   "outputs": [],
   "source": [
    "alphabet = list(string.ascii_lowercase)\n",
    "shuffled_alphabet = list(string.ascii_lowercase)\n",
    "random.shuffle(shuffled_alphabet)\n",
    "cipher = {x:y for x,y in zip(alphabet, shuffled_alphabet)}"
   ]
  },
  {
   "cell_type": "code",
   "execution_count": 11,
   "metadata": {},
   "outputs": [
    {
     "output_type": "execute_result",
     "data": {
      "text/plain": "{'a': 'a',\n 'b': 'y',\n 'c': 'c',\n 'd': 'k',\n 'e': 'b',\n 'f': 'h',\n 'g': 'f',\n 'h': 't',\n 'i': 'v',\n 'j': 'r',\n 'k': 'q',\n 'l': 'x',\n 'm': 'w',\n 'n': 'l',\n 'o': 'n',\n 'p': 'o',\n 'q': 'j',\n 'r': 'i',\n 's': 'g',\n 't': 'z',\n 'u': 'u',\n 'v': 'e',\n 'w': 'p',\n 'x': 'd',\n 'y': 'm',\n 'z': 's'}"
     },
     "metadata": {},
     "execution_count": 11
    }
   ],
   "source": [
    "cipher"
   ]
  },
  {
   "cell_type": "markdown",
   "metadata": {},
   "source": [
    "# Train language model\n",
    "\n",
    "Create a character-level Markov model based on an English dataset (an edit of https://www.gutenberg.org/ebooks/2701 ). Any book could be used instead or together with this one. We suppose that the probability $p(a_k|a_1, ..., a_{k-1})=p(a_k|a_{k-1})$. In other terms, it only depend on the previous character. We will count occurances of character pairs in the text and will divide it by the count of character occurances in the text. \n",
    "\n",
    "For a given word : \n",
    "logprob$(word) = \\log (p(x_1)  \\Pi_{i=2}^n p(x_t | x_{t-1}))$\n",
    "\n",
    "Markov matrix will provide the counts of pairs $a_i \\rightarrow a_j$.\n",
    "Weights vector will provide the counts of each letter."
   ]
  },
  {
   "cell_type": "code",
   "execution_count": 12,
   "metadata": {},
   "outputs": [],
   "source": [
    "markov_matrix = np.ones((26,26))\n",
    "weights = np.zeros(26)"
   ]
  },
  {
   "cell_type": "code",
   "execution_count": 13,
   "metadata": {},
   "outputs": [],
   "source": [
    "def markov_update(a, b):\n",
    "    markov_matrix[alphabet.index(a), alphabet.index(b)]+=1\n",
    "\n",
    "def weight_update (a):\n",
    "    weights[alphabet.index(a)]+=1"
   ]
  },
  {
   "cell_type": "markdown",
   "metadata": {},
   "source": [
    "### Get the log-probability of a word"
   ]
  },
  {
   "cell_type": "code",
   "execution_count": 14,
   "metadata": {},
   "outputs": [],
   "source": [
    "\n",
    "def get_word_prob(word : str):\n",
    "\n",
    "    i = alphabet.index(word[0])\n",
    "    logp = np.log(weights[i])\n",
    "\n",
    "    for ch in word[1:]:\n",
    "        j = alphabet.index(ch)\n",
    "        logp += np.log(markov_matrix[i, j]) \n",
    "        i = j\n",
    "    return logp"
   ]
  },
  {
   "cell_type": "markdown",
   "metadata": {},
   "source": [
    "### Get the probability of a sentence\n",
    "\n",
    "The sentence is stripped from eventual punctuation and transformed to lower case before calculation of probability.\n"
   ]
  },
  {
   "cell_type": "code",
   "execution_count": 15,
   "metadata": {},
   "outputs": [],
   "source": [
    "def get_sequence_prob(words:str):\n",
    "    words = words.translate(str.maketrans('', '', string.punctuation)).lower().split()\n",
    "    logp = sum([get_word_prob(word) for word in words])\n",
    "    return logp"
   ]
  },
  {
   "cell_type": "markdown",
   "metadata": {},
   "source": [
    "### Get a reference file for language model training.\n",
    "\n",
    "We will use \"Moby Dick\" by Herman Melville.\n",
    "Source : https://www.gutenberg.org/ebooks/2701"
   ]
  },
  {
   "cell_type": "code",
   "execution_count": 16,
   "metadata": {
    "tags": []
   },
   "outputs": [],
   "source": [
    "if not os.path.exists('moby_dick.txt'):\n",
    "    print(\"Downloading moby dick...\")\n",
    "    r = requests.get('https://www.gutenberg.org/files/2701/2701-0.txt')\n",
    "    with open('moby_dick.txt', 'w') as f:\n",
    "        f.write(r.content.decode())\n",
    "    with open('moby_dick.txt', 'r') as f:\n",
    "        r = f.readlines()[848:21965]\n",
    "    with open('moby_dick.txt', 'w') as f:\n",
    "        f.write('\\n'.join(r))"
   ]
  },
  {
   "cell_type": "markdown",
   "metadata": {},
   "source": [
    "### Train the model"
   ]
  },
  {
   "cell_type": "code",
   "execution_count": 17,
   "metadata": {},
   "outputs": [],
   "source": [
    "regex = re.compile('[^a-zA-Z]')\n",
    "\n",
    "for line in open('moby_dick.txt'):\n",
    "  line = line.strip()\n",
    "\n",
    "  if line!='':\n",
    "    line = regex.sub(' ', line)\n",
    "    tokens = line.lower().split()\n",
    "\n",
    "    for token in tokens:\n",
    "      t0 = token[0]\n",
    "      weight_update(t0)\n",
    "\n",
    "      for t1 in token[1:]:\n",
    "        markov_update(t0, t1)\n",
    "        t0 = t1"
   ]
  },
  {
   "cell_type": "markdown",
   "metadata": {},
   "source": [
    "### Normalize the probabilities"
   ]
  },
  {
   "cell_type": "code",
   "execution_count": 18,
   "metadata": {},
   "outputs": [],
   "source": [
    "weights /= weights.sum()\n",
    "markov_matrix /= markov_matrix.sum(axis=1, keepdims=True)"
   ]
  },
  {
   "cell_type": "code",
   "execution_count": 21,
   "metadata": {},
   "outputs": [
    {
     "output_type": "execute_result",
     "data": {
      "text/plain": "'i then lounged down the street and found as i expected that there was a mews in a lane which runs down by one wall of the garden i lent the ostlers a hand in rubbing down their horses and received in exchange twopence a glass of half and half two fills of shag tobacco and as much information as i could desire about miss adler to say nothing of half a dozen other people in the neighbourhood in whom i was not in the least interested but whose biographies i was compelled to listen to away they went and i was just wondering whether i should not do well to follow them when up the lane came a neat little landau the coachman with his coat only half buttoned and his tie under his ear while all the tags of his harness were sticking out of the buckles it hadn t pulled up before she shot out of the hall door and into it i only caught a glimpse of her at the moment but she was a lovely woman with a face that a man might die for my cabby drove fast i don t think i ever drove faster but the others were there before us the cab and the landau with their steaming horses were in front of the door when i arrived i paid the man and hurried into the church there was not a soul there save the two whom i had followed and a surpliced clergyman who seemed to be expostulating with them they were all three standing in a knot in front of the altar i lounged up the side aisle like any other idler who has dropped into a church suddenly to my surprise the three at the altar faced round to me and godfrey norton came running as hard as he could towards me'"
     },
     "metadata": {},
     "execution_count": 21
    }
   ],
   "source": [
    "with open('encode_message.txt', 'r') as f:\n",
    "    message = f.read().replace('\\n',' ').lower()\n",
    "    regex = re.compile('[^a-zA-Z]')\n",
    "    message = ' '.join(regex.sub(' ', message).strip().split())\n",
    "message"
   ]
  },
  {
   "cell_type": "code",
   "execution_count": null,
   "metadata": {},
   "outputs": [],
   "source": []
  }
 ],
 "metadata": {
  "language_info": {
   "codemirror_mode": {
    "name": "ipython",
    "version": 3
   },
   "file_extension": ".py",
   "mimetype": "text/x-python",
   "name": "python",
   "nbconvert_exporter": "python",
   "pygments_lexer": "ipython3",
   "version": 3
  },
  "orig_nbformat": 2,
  "kernelspec": {
   "name": "python_defaultSpec_1605864845394",
   "display_name": "Python 3.7.7 64-bit ('base': conda)"
  }
 },
 "nbformat": 4,
 "nbformat_minor": 2
}