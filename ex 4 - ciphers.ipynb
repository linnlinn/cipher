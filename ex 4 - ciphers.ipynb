{
 "cells": [
  {
   "cell_type": "markdown",
   "metadata": {},
   "source": [
    "# Chapter 4 : cryptocipher"
   ]
  },
  {
   "cell_type": "markdown",
   "metadata": {},
   "source": [
    "4.21 : given a message, create a dictionnary mapping the letters in message to the alphabet"
   ]
  },
  {
   "cell_type": "code",
   "execution_count": 259,
   "metadata": {},
   "outputs": [],
   "source": [
    "import string\n",
    "import random\n",
    "import numpy as np\n",
    "import requests\n",
    "import re\n",
    "from operator import itemgetter"
   ]
  },
  {
   "cell_type": "markdown",
   "metadata": {},
   "source": [
    "# Create random cipher"
   ]
  },
  {
   "cell_type": "code",
   "execution_count": 260,
   "metadata": {},
   "outputs": [],
   "source": [
    "alphabet = list(string.ascii_lowercase)\n",
    "shuffled_alphabet = list(string.ascii_lowercase)\n",
    "random.shuffle(shuffled_alphabet)\n",
    "cipher = {x:y for x,y in zip(alphabet, shuffled_alphabet)}"
   ]
  },
  {
   "cell_type": "code",
   "execution_count": 261,
   "metadata": {},
   "outputs": [
    {
     "output_type": "execute_result",
     "data": {
      "text/plain": "{'a': 'r',\n 'b': 'v',\n 'c': 'u',\n 'd': 'f',\n 'e': 'g',\n 'f': 'c',\n 'g': 'h',\n 'h': 'n',\n 'i': 'o',\n 'j': 'q',\n 'k': 't',\n 'l': 'b',\n 'm': 'm',\n 'n': 'i',\n 'o': 'j',\n 'p': 'k',\n 'q': 'd',\n 'r': 'w',\n 's': 'e',\n 't': 'x',\n 'u': 's',\n 'v': 'p',\n 'w': 'z',\n 'x': 'y',\n 'y': 'l',\n 'z': 'a'}"
     },
     "metadata": {},
     "execution_count": 261
    }
   ],
   "source": [
    "cipher"
   ]
  },
  {
   "cell_type": "markdown",
   "metadata": {},
   "source": [
    "# Train language model\n",
    "\n",
    "Create a character-level Markov model based on an English dataset (an edit of https://www.gutenberg.org/ebooks/2701 ). Any book could be used instead or together with this one. We suppose that the probability $p(a_k|a_1, ..., a_{k-1})=p(a_k|a_{k-1})$. In other terms, it only depend on the previous character. We will count occurances of character pairs in the text and will divide it by the count of character occurances in the text. \n",
    "\n",
    "For a given word : \n",
    "logprob$(word) = \\log (p(x_1)  \\Pi_{i=2}^n p(x_t | x_{t-1}))$\n",
    "\n",
    "Markov matrix will provide the counts of pairs $a_i \\rightarrow a_j$.\n",
    "Weights vector will provide the counts of each letter."
   ]
  },
  {
   "cell_type": "code",
   "execution_count": 262,
   "metadata": {},
   "outputs": [],
   "source": [
    "markov_matrix = np.ones((26,26))\n",
    "weights = np.zeros(26)"
   ]
  },
  {
   "cell_type": "code",
   "execution_count": 263,
   "metadata": {},
   "outputs": [],
   "source": [
    "def markov_update(a, b):\n",
    "    markov_matrix[alphabet.index(a), alphabet.index(b)]+=1\n",
    "\n",
    "def weight_update (a):\n",
    "    weights[alphabet.index(a)]+=1"
   ]
  },
  {
   "cell_type": "markdown",
   "metadata": {},
   "source": [
    "### Get the log-probability of a word"
   ]
  },
  {
   "cell_type": "code",
   "execution_count": 264,
   "metadata": {},
   "outputs": [],
   "source": [
    "\n",
    "def get_word_prob(word : str):\n",
    "\n",
    "    i = alphabet.index(word[0])\n",
    "    logp = np.log(weights[i])\n",
    "\n",
    "    for ch in word[1:]:\n",
    "        j = alphabet.index(ch)\n",
    "        logp += np.log(markov_matrix[i, j]) \n",
    "        i = j\n",
    "    return logp"
   ]
  },
  {
   "cell_type": "markdown",
   "metadata": {},
   "source": [
    "### Get the probability of a sentence\n",
    "\n",
    "The sentence is stripped from eventual punctuation and transformed to lower case before calculation of probability.\n"
   ]
  },
  {
   "cell_type": "code",
   "execution_count": 265,
   "metadata": {},
   "outputs": [],
   "source": [
    "def get_sequence_prob(words:str):\n",
    "    words = words.split()\n",
    "    logp = sum([get_word_prob(word) for word in words])\n",
    "    return logp"
   ]
  },
  {
   "cell_type": "markdown",
   "metadata": {},
   "source": [
    "### Get a reference file for language model training.\n",
    "\n",
    "We will use \"Moby Dick\" by Herman Melville.\n",
    "Source : https://www.gutenberg.org/ebooks/2701"
   ]
  },
  {
   "cell_type": "code",
   "execution_count": 266,
   "metadata": {
    "tags": []
   },
   "outputs": [],
   "source": [
    "if not os.path.exists('moby_dick.txt'):\n",
    "    print(\"Downloading moby dick...\")\n",
    "    r = requests.get('https://www.gutenberg.org/files/2701/2701-0.txt')\n",
    "    with open('moby_dick.txt', 'w') as f:\n",
    "        f.write(r.content.decode())\n",
    "    with open('moby_dick.txt', 'r') as f:\n",
    "        r = f.readlines()[848:21965]\n",
    "    with open('moby_dick.txt', 'w') as f:\n",
    "        f.write('\\n'.join(r))"
   ]
  },
  {
   "cell_type": "markdown",
   "metadata": {},
   "source": [
    "### Train the model"
   ]
  },
  {
   "cell_type": "code",
   "execution_count": 267,
   "metadata": {},
   "outputs": [],
   "source": [
    "regex = re.compile('[^a-zA-Z]')\n",
    "\n",
    "for line in open('moby_dick.txt'):\n",
    "  line = line.strip()\n",
    "\n",
    "  if line!='':\n",
    "    line = regex.sub(' ', line)\n",
    "    tokens = line.lower().split()\n",
    "\n",
    "    for token in tokens:\n",
    "      t0 = token[0]\n",
    "      weight_update(t0)\n",
    "\n",
    "      for t1 in token[1:]:\n",
    "        markov_update(t0, t1)\n",
    "        t0 = t1"
   ]
  },
  {
   "cell_type": "markdown",
   "metadata": {},
   "source": [
    "### Normalize the probabilities"
   ]
  },
  {
   "cell_type": "code",
   "execution_count": 268,
   "metadata": {},
   "outputs": [],
   "source": [
    "weights /= weights.sum()\n",
    "markov_matrix /= markov_matrix.sum(axis=1, keepdims=True)"
   ]
  },
  {
   "cell_type": "markdown",
   "metadata": {},
   "source": [
    "### Read and encode the message"
   ]
  },
  {
   "cell_type": "code",
   "execution_count": 269,
   "metadata": {},
   "outputs": [
    {
     "output_type": "execute_result",
     "data": {
      "text/plain": "'i then lounged down the street and found as i expected that there was a mews in a lane which runs down by one wall of the garden i lent the ostlers a hand in rubbing down their horses and received in exchange twopence a glass of half and half two fills of shag tobacco and as much information as i could desire about miss adler to say nothing of half a dozen other people in the neighbourhood in whom i was not in the least interested but whose biographies i was compelled to listen to away they went and i was just wondering whether i should not do well to follow them when up the lane came a neat little landau the coachman with his coat only half buttoned and his tie under his ear while all the tags of his harness were sticking out of the buckles it hadn t pulled up before she shot out of the hall door and into it i only caught a glimpse of her at the moment but she was a lovely woman with a face that a man might die for my cabby drove fast i don t think i ever drove faster but the others were there before us the cab and the landau with their steaming horses were in front of the door when i arrived i paid the man and hurried into the church there was not a soul there save the two whom i had followed and a surpliced clergyman who seemed to be expostulating with them they were all three standing in a knot in front of the altar i lounged up the side aisle like any other idler who has dropped into a church suddenly to my surprise the three at the altar faced round to me and godfrey norton came running as hard as he could towards me'"
     },
     "metadata": {},
     "execution_count": 269
    }
   ],
   "source": [
    "with open('encode_message.txt', 'r') as f:\n",
    "    message = f.read().replace('\\n',' ').lower()\n",
    "    regex = re.compile('[^a-zA-Z]')\n",
    "    message_to_encode = ' '.join(regex.sub(' ', message).strip().split())\n",
    "message_to_encode"
   ]
  },
  {
   "cell_type": "code",
   "execution_count": 270,
   "metadata": {},
   "outputs": [],
   "source": [
    "def encode(message : str, cipher : dict):\n",
    "    encoded = ''\n",
    "    for c in message:\n",
    "        if c==' ':\n",
    "            encoded += c\n",
    "        else:\n",
    "            encoded += cipher[c]\n",
    "    return encoded\n",
    "\n",
    "def decode(message : str, cipher : dict):\n",
    "    anticipher = {x: y for y, x in cihper.items()}\n",
    "    decoded = ''\n",
    "    for c in message:\n",
    "        if c==' ':\n",
    "            decoded += c\n",
    "        else:\n",
    "            encoded += anticipher[c]\n",
    "    return decoded"
   ]
  },
  {
   "cell_type": "code",
   "execution_count": 271,
   "metadata": {},
   "outputs": [
    {
     "output_type": "execute_result",
     "data": {
      "text/plain": "'o xngi bjsihgf fjzi xng exwggx rif cjsif re o gykguxgf xnrx xngwg zre r mgze oi r brig znoun wsie fjzi vl jig zrbb jc xng hrwfgi o bgix xng jexbgwe r nrif oi wsvvoih fjzi xngow njwege rif wgugopgf oi gyunrihg xzjkgiug r hbree jc nrbc rif nrbc xzj cobbe jc enrh xjvruuj rif re msun oicjwmrxoji re o ujsbf fgeowg rvjsx moee rfbgw xj erl ijxnoih jc nrbc r fjagi jxngw kgjkbg oi xng igohnvjswnjjf oi znjm o zre ijx oi xng bgrex oixgwgexgf vsx znjeg vojhwrknoge o zre ujmkgbbgf xj boexgi xj rzrl xngl zgix rif o zre qsex zjifgwoih zngxngw o enjsbf ijx fj zgbb xj cjbbjz xngm zngi sk xng brig urmg r igrx boxxbg brifrs xng ujrunmri zoxn noe ujrx jibl nrbc vsxxjigf rif noe xog sifgw noe grw znobg rbb xng xrhe jc noe nrwigee zgwg exoutoih jsx jc xng vsutbge ox nrfi x ksbbgf sk vgcjwg eng enjx jsx jc xng nrbb fjjw rif oixj ox o jibl urshnx r hbomkeg jc ngw rx xng mjmgix vsx eng zre r bjpgbl zjmri zoxn r crug xnrx r mri mohnx fog cjw ml urvvl fwjpg crex o fji x xnoit o gpgw fwjpg crexgw vsx xng jxngwe zgwg xngwg vgcjwg se xng urv rif xng brifrs zoxn xngow exgrmoih njwege zgwg oi cwjix jc xng fjjw zngi o rwwopgf o krof xng mri rif nswwogf oixj xng unswun xngwg zre ijx r ejsb xngwg erpg xng xzj znjm o nrf cjbbjzgf rif r eswkbougf ubgwhlmri znj eggmgf xj vg gykjexsbrxoih zoxn xngm xngl zgwg rbb xnwgg exrifoih oi r tijx oi cwjix jc xng rbxrw o bjsihgf sk xng eofg roebg botg ril jxngw ofbgw znj nre fwjkkgf oixj r unswun esffgibl xj ml eswkwoeg xng xnwgg rx xng rbxrw crugf wjsif xj mg rif hjfcwgl ijwxji urmg wsiioih re nrwf re ng ujsbf xjzrwfe mg'"
     },
     "metadata": {},
     "execution_count": 271
    }
   ],
   "source": [
    "code = encode(message_to_encode, cipher)\n",
    "code"
   ]
  },
  {
   "cell_type": "markdown",
   "metadata": {},
   "source": [
    "# Use a genetic algorithm to decript the message"
   ]
  },
  {
   "cell_type": "markdown",
   "metadata": {},
   "source": [
    "### parameters"
   ]
  },
  {
   "cell_type": "code",
   "execution_count": 272,
   "metadata": {},
   "outputs": [],
   "source": [
    "N = 32\n",
    "keep = 8\n",
    "children = 3\n",
    "epocs = 300"
   ]
  },
  {
   "cell_type": "code",
   "execution_count": 273,
   "metadata": {},
   "outputs": [],
   "source": [
    "def generate_dna():\n",
    "    alpha = list(string.ascii_lowercase)\n",
    "    random.shuffle(alpha)\n",
    "    return ''.join(alpha)"
   ]
  },
  {
   "cell_type": "code",
   "execution_count": 274,
   "metadata": {},
   "outputs": [],
   "source": [
    "dna_pool = [generate_dna() for _ in range(N)]"
   ]
  },
  {
   "cell_type": "code",
   "execution_count": 275,
   "metadata": {},
   "outputs": [],
   "source": [
    "def evaluate_dna(dna, message):\n",
    "    alpha = list(string.ascii_lowercase)\n",
    "    encoder = {x:y for x, y in zip(alpha, list(dna))}\n",
    "    dna_code = encode(message, encoder)\n",
    "    score = get_sequence_prob(dna_code)\n",
    "    return score\n"
   ]
  },
  {
   "cell_type": "code",
   "execution_count": 276,
   "metadata": {},
   "outputs": [],
   "source": [
    "def keep_best(pool, n=keep):\n",
    "    score = [(dna, evaluate_dna(dna, code)) for dna in pool]\n",
    "    score = sorted(score, key=itemgetter(1), reverse=True)[:n]\n",
    "    best_dna = [x[0] for x in score]\n",
    "    best_score = score[0][1]\n",
    "    return best_dna, best_score"
   ]
  },
  {
   "cell_type": "code",
   "execution_count": 277,
   "metadata": {},
   "outputs": [],
   "source": [
    "def mutations(pool, nc=children):\n",
    "    children = []\n",
    "    for dna in pool:\n",
    "        for _ in range(nc):\n",
    "            child = list(dna)\n",
    "            i=random.randint(0,25)\n",
    "            j=random.randint(0,25)\n",
    "            child[i], child[j] = child[j], child[i]\n",
    "            child = ''.join(child)\n",
    "            children.append(child)\n",
    "    return pool+children\n"
   ]
  },
  {
   "cell_type": "code",
   "execution_count": 278,
   "metadata": {},
   "outputs": [
    {
     "output_type": "execute_result",
     "data": {
      "text/plain": "26"
     },
     "metadata": {},
     "execution_count": 278
    }
   ],
   "source": [
    "len(dna_pool[0])"
   ]
  },
  {
   "cell_type": "code",
   "execution_count": 279,
   "metadata": {
    "tags": []
   },
   "outputs": [
    {
     "output_type": "stream",
     "name": "stdout",
     "text": "0 iterations, best score :  -5773.357436127759\n10 iterations, best score :  -4688.024226029333\n20 iterations, best score :  -4109.492605273266\n30 iterations, best score :  -3928.3362549601097\n40 iterations, best score :  -3775.449636702807\n50 iterations, best score :  -3677.969221579938\n60 iterations, best score :  -3662.294338695646\n70 iterations, best score :  -3559.3692414654033\n80 iterations, best score :  -3523.554328999374\n90 iterations, best score :  -3506.700081724467\n100 iterations, best score :  -3448.42367456203\n110 iterations, best score :  -3425.568403827853\n120 iterations, best score :  -3412.0399081432847\n130 iterations, best score :  -3330.347765747104\n140 iterations, best score :  -3318.3239665983015\n150 iterations, best score :  -3317.877877775549\n160 iterations, best score :  -3317.097394636357\n170 iterations, best score :  -3278.195529057987\n180 iterations, best score :  -3147.0147003876746\n190 iterations, best score :  -2874.9333587264764\n200 iterations, best score :  -2874.9333587264764\n210 iterations, best score :  -2860.1894446372194\n220 iterations, best score :  -2860.1894446372194\n230 iterations, best score :  -2860.1894446372194\n240 iterations, best score :  -2860.1894446372194\n250 iterations, best score :  -2860.1894446372194\n260 iterations, best score :  -2860.1894446372194\n270 iterations, best score :  -2860.1894446372194\n280 iterations, best score :  -2860.1894446372194\n290 iterations, best score :  -2860.1894446372194\n"
    }
   ],
   "source": [
    "for i in range(epocs):\n",
    "    dna_pool, best_score = keep_best(dna_pool)\n",
    "    dna_pool = mutations(dna_pool)\n",
    "    if i % 10 == 0:\n",
    "        print(i, 'iterations, best score : ', best_score)\n",
    "\n",
    "\n",
    "\n"
   ]
  },
  {
   "cell_type": "code",
   "execution_count": 281,
   "metadata": {},
   "outputs": [
    {
     "output_type": "execute_result",
     "data": {
      "text/plain": "'i then lounged down the street and found as i expected that there was a mews in a lane which runs down by one wall of the garden i lent the ostlers a hand in rubbing down their horses and received in exchange twopence a glass of half and half two fills of shag tobacco and as much information as i could desire about miss adler to say nothing of half a dozen other people in the neighbourhood in whom i was not in the least interested but whose biographies i was compelled to listen to away they went and i was qust wondering whether i should not do well to follow them when up the lane came a neat little landau the coachman with his coat only half buttoned and his tie under his ear while all the tags of his harness were sticking out of the buckles it hadn t pulled up before she shot out of the hall door and into it i only caught a glimpse of her at the moment but she was a lovely woman with a face that a man might die for my cabby drove fast i don t think i ever drove faster but the others were there before us the cab and the landau with their steaming horses were in front of the door when i arrived i paid the man and hurried into the church there was not a soul there save the two whom i had followed and a surpliced clergyman who seemed to be expostulating with them they were all three standing in a knot in front of the altar i lounged up the side aisle like any other idler who has dropped into a church suddenly to my surprise the three at the altar faced round to me and godfrey norton came running as hard as he could towards me'"
     },
     "metadata": {},
     "execution_count": 281
    }
   ],
   "source": [
    " best_dna = dna_pool[0]\n",
    " alpha = list(string.ascii_lowercase)\n",
    " encoder = {x:y for x, y in zip(alpha, list(best_dna))}\n",
    " encode(code, encoder)"
   ]
  }
 ],
 "metadata": {
  "language_info": {
   "codemirror_mode": {
    "name": "ipython",
    "version": 3
   },
   "file_extension": ".py",
   "mimetype": "text/x-python",
   "name": "python",
   "nbconvert_exporter": "python",
   "pygments_lexer": "ipython3",
   "version": 3
  },
  "orig_nbformat": 2,
  "kernelspec": {
   "name": "python_defaultSpec_1605864845394",
   "display_name": "Python 3.7.7 64-bit ('base': conda)"
  }
 },
 "nbformat": 4,
 "nbformat_minor": 2
}