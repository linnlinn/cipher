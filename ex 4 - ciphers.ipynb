{
 "cells": [
  {
   "cell_type": "markdown",
   "metadata": {},
   "source": [
    "# Chapter 4 : cryptocipher"
   ]
  },
  {
   "cell_type": "markdown",
   "metadata": {},
   "source": [
    "4.21 : given a message, create a dictionnary mapping the letters in message to the alphabet"
   ]
  },
  {
   "cell_type": "code",
   "execution_count": 1,
   "metadata": {},
   "outputs": [],
   "source": [
    "import string\n",
    "import random\n",
    "import numpy as np\n",
    "import requests\n",
    "import re"
   ]
  },
  {
   "cell_type": "code",
   "execution_count": 2,
   "metadata": {},
   "outputs": [],
   "source": [
    "def map_letters(message : str): \n",
    "    alphabet = string.ascii_lowercase\n",
    "    letters = set(message.replace(' ', '')+alphabet)\n",
    "    d={x:y for x, y in zip(letters, alphabet)}\n",
    "    return d"
   ]
  },
  {
   "cell_type": "markdown",
   "metadata": {},
   "source": [
    "# Create random cipher"
   ]
  },
  {
   "cell_type": "code",
   "execution_count": 3,
   "metadata": {},
   "outputs": [],
   "source": [
    "alphabet = list(string.ascii_lowercase)\n",
    "shuffled_alphabet = list(string.ascii_lowercase)\n",
    "random.shuffle(shuffled_alphabet)\n",
    "cipher = {x:y for x,y in zip(alphabet, shuffled_alphabet)}"
   ]
  },
  {
   "cell_type": "code",
   "execution_count": 4,
   "metadata": {},
   "outputs": [
    {
     "output_type": "execute_result",
     "data": {
      "text/plain": "{'a': 'y',\n 'b': 'm',\n 'c': 'q',\n 'd': 'o',\n 'e': 'b',\n 'f': 'z',\n 'g': 'v',\n 'h': 'd',\n 'i': 'w',\n 'j': 'k',\n 'k': 's',\n 'l': 'g',\n 'm': 'r',\n 'n': 'l',\n 'o': 'p',\n 'p': 'h',\n 'q': 'a',\n 'r': 'x',\n 's': 'u',\n 't': 'j',\n 'u': 'i',\n 'v': 'n',\n 'w': 'e',\n 'x': 'f',\n 'y': 't',\n 'z': 'c'}"
     },
     "metadata": {},
     "execution_count": 4
    }
   ],
   "source": [
    "cipher"
   ]
  },
  {
   "cell_type": "markdown",
   "metadata": {},
   "source": [
    "# Train language model\n",
    "\n",
    "Create a character-level Markov model based on an English dataset (an edit of https://www.gutenberg.org/ebooks/2701 ). Any book could be used instead or together with this one. We suppose that the probability $p(a_k|a_1, ..., a_{k-1})=p(a_k|a_{k-1})$. In other terms, it only depend on the previous character. We will count occurances of character pairs in the text and will divide it by the count of character occurances in the text. \n",
    "\n",
    "For a given word : \n",
    "logprob$(word) = \\log (p(x_1)  \\Pi_{i=2}^n p(x_t | x_{t-1}))$\n",
    "\n",
    "Markov matrix will provide the counts of pairs $a_i \\rightarrow a_j$.\n",
    "Weights vector will provide the counts of each letter."
   ]
  },
  {
   "cell_type": "code",
   "execution_count": 5,
   "metadata": {},
   "outputs": [],
   "source": [
    "markov_matrix = np.ones((26,26))\n",
    "weights = np.zeros(26)"
   ]
  },
  {
   "cell_type": "code",
   "execution_count": 6,
   "metadata": {},
   "outputs": [],
   "source": [
    "def markov_update(a, b):\n",
    "    markov_matrix[alphabet.index(a), alphabet.index(b)]+=1\n",
    "\n",
    "def weight_update (a):\n",
    "    weights[alphabet.index(a)]+=1"
   ]
  },
  {
   "cell_type": "markdown",
   "metadata": {},
   "source": [
    "### Get the log-probability of a word"
   ]
  },
  {
   "cell_type": "code",
   "execution_count": 7,
   "metadata": {},
   "outputs": [],
   "source": [
    "\n",
    "def get_word_prob(word : str):\n",
    "\n",
    "    i = alphabet.index(word[0])\n",
    "    logp = np.log(weights[i])\n",
    "\n",
    "    for ch in word[1:]:\n",
    "        j = alphabet.index(ch)\n",
    "        logp += np.log(markov_matrix[i, j]) \n",
    "        i = j\n",
    "    return logp"
   ]
  },
  {
   "cell_type": "markdown",
   "metadata": {},
   "source": [
    "### Get the probability of a sentence\n",
    "\n",
    "The sentence is stripped from eventual punctuation and transformed to lower case before calculation of probability.\n"
   ]
  },
  {
   "cell_type": "code",
   "execution_count": 8,
   "metadata": {},
   "outputs": [],
   "source": [
    "def get_sequence_prob(words:str):\n",
    "    words = words.translate(str.maketrans('', '', string.punctuation)).lower().split()\n",
    "    logp = sum([get_word_prob(word) for word in words])\n",
    "    return logp"
   ]
  },
  {
   "cell_type": "markdown",
   "metadata": {},
   "source": [
    "### Get a reference file for language model training.\n",
    "\n",
    "We will use \"Moby Dick\" by Herman Melville.\n",
    "Source : https://www.gutenberg.org/ebooks/2701"
   ]
  },
  {
   "cell_type": "code",
   "execution_count": 9,
   "metadata": {
    "tags": []
   },
   "outputs": [],
   "source": [
    "if not os.path.exists('moby_dick.txt'):\n",
    "    print(\"Downloading moby dick...\")\n",
    "    r = requests.get('https://www.gutenberg.org/files/2701/2701-0.txt')\n",
    "    with open('moby_dick.txt', 'w') as f:\n",
    "        f.write(r.content.decode())\n",
    "    with open('moby_dick.txt', 'r') as f:\n",
    "        r = f.readlines()[848:21965]\n",
    "    with open('moby_dick.txt', 'w') as f:\n",
    "        f.write('\\n'.join(r))"
   ]
  },
  {
   "cell_type": "markdown",
   "metadata": {},
   "source": [
    "### Train the model"
   ]
  },
  {
   "cell_type": "code",
   "execution_count": 11,
   "metadata": {},
   "outputs": [],
   "source": [
    "regex = re.compile('[^a-zA-Z]')\n",
    "\n",
    "for line in open('moby_dick.txt'):\n",
    "  line = line.strip()\n",
    "\n",
    "  if line!='':\n",
    "    line = regex.sub(' ', line)\n",
    "    tokens = line.lower().split()\n",
    "\n",
    "    for token in tokens:\n",
    "      t0 = token[0]\n",
    "      weight_update(t0)\n",
    "\n",
    "      for t1 in token[1:]:\n",
    "        markov_update(t0, t1)\n",
    "        t0 = t1"
   ]
  },
  {
   "cell_type": "markdown",
   "metadata": {},
   "source": [
    "### Normalize the probabilities"
   ]
  },
  {
   "cell_type": "code",
   "execution_count": null,
   "metadata": {},
   "outputs": [],
   "source": [
    "weights /= weights.sum()\n",
    "markov_matrix /= markov_matrix.sum(axis=1, keepdims=True)"
   ]
  }
 ],
 "metadata": {
  "language_info": {
   "codemirror_mode": {
    "name": "ipython",
    "version": 3
   },
   "file_extension": ".py",
   "mimetype": "text/x-python",
   "name": "python",
   "nbconvert_exporter": "python",
   "pygments_lexer": "ipython3",
   "version": 3
  },
  "orig_nbformat": 2,
  "kernelspec": {
   "name": "python_defaultSpec_1605863683800",
   "display_name": "Python 3.7.7 64-bit ('base': conda)"
  }
 },
 "nbformat": 4,
 "nbformat_minor": 2
}